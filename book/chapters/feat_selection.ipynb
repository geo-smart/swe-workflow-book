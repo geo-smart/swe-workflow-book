{
 "cells": [
  {
   "cell_type": "markdown",
   "source": [
    "# Feature Selection\n",
    "\n",
    "Criteria for selecting features in SWE prediction models\n",
    "Techniques and tools used for feature selection\n"
   ],
   "metadata": {
    "collapsed": false
   },
   "id": "7532ade1ccf2869e"
  },
  {
   "cell_type": "code",
   "outputs": [],
   "source": [],
   "metadata": {
    "collapsed": false
   },
   "id": "cada304604ef5dc8"
  }
 ],
 "metadata": {
  "kernelspec": {
   "display_name": "Python 3",
   "language": "python",
   "name": "python3"
  },
  "language_info": {
   "codemirror_mode": {
    "name": "ipython",
    "version": 2
   },
   "file_extension": ".py",
   "mimetype": "text/x-python",
   "name": "python",
   "nbconvert_exporter": "python",
   "pygments_lexer": "ipython2",
   "version": "2.7.6"
  }
 },
 "nbformat": 4,
 "nbformat_minor": 5
}
