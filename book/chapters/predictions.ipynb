{
 "cells": [
  {
   "cell_type": "markdown",
   "source": [
    "# Predictions\n",
    "\n",
    "Generating SWE forecasts using the developed models\n",
    "Interpretation and analysis of prediction results\n"
   ],
   "metadata": {
    "collapsed": false
   },
   "id": "3d78e29fc7f760ea"
  },
  {
   "cell_type": "code",
   "outputs": [],
   "source": [],
   "metadata": {
    "collapsed": false
   },
   "id": "d243790d2178b4ba"
  }
 ],
 "metadata": {
  "kernelspec": {
   "display_name": "Python 3",
   "language": "python",
   "name": "python3"
  },
  "language_info": {
   "codemirror_mode": {
    "name": "ipython",
    "version": 2
   },
   "file_extension": ".py",
   "mimetype": "text/x-python",
   "name": "python",
   "nbconvert_exporter": "python",
   "pygments_lexer": "ipython2",
   "version": "2.7.6"
  }
 },
 "nbformat": 4,
 "nbformat_minor": 5
}
