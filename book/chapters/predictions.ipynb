{
 "cells": [
  {
   "cell_type": "markdown",
   "source": [
    "# Predictions"
   ],
   "metadata": {
    "collapsed": false
   },
   "id": "3d78e29fc7f760ea"
  },
  {
   "cell_type": "markdown",
   "source": [
    "Generating SWE forecasts using the developed models\n",
    "Interpretation and analysis of prediction results\n"
   ],
   "metadata": {
    "collapsed": false
   },
   "id": "7cc3fefc60b95426"
  },
  {
   "cell_type": "markdown",
   "source": [],
   "metadata": {
    "collapsed": false
   },
   "id": "7e0341a2341ed5d7"
  }
 ],
 "metadata": {
  "kernelspec": {
   "display_name": "Python 3",
   "language": "python",
   "name": "python3"
  },
  "language_info": {
   "codemirror_mode": {
    "name": "ipython",
    "version": 2
   },
   "file_extension": ".py",
   "mimetype": "text/x-python",
   "name": "python",
   "nbconvert_exporter": "python",
   "pygments_lexer": "ipython2",
   "version": "2.7.6"
  }
 },
 "nbformat": 4,
 "nbformat_minor": 5
}
