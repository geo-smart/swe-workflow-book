{
 "cells": [
  {
   "cell_type": "markdown",
   "id": "42f25f1b-55f5-4627-baad-20f4e8296bb3",
   "metadata": {},
   "source": [
    "## Why is it so important to stay organized during AI/ML projects?\n",
    "\n",
    "AI/ML projects involve multiple stages, from data collection and preprocessing to model development, testing, and deployment. Managing this complexity is only possible with a well-organized approach. It involves numerous of back and forth tuning, and a lot of detail changing over and over again. Without organized strategy, working on AI/ML will be a time sink for everyone. \n"
   ]
  },
  {
   "cell_type": "markdown",
   "id": "4f42fbf6-c85f-441f-902f-ddecbd481ea1",
   "metadata": {},
   "source": [
    "## Why Geoweaver?\n",
    "\n",
    "GeoWeaver is an open-source software designed for intuitive workflow management, offering a user-friendly interface for creating, executing, and managing data processing workflows. It simplifies complex workflows into easy-to-understand graphs, making them accessible to a wide range of users, including those with limited technical expertise.\n",
    "\n",
    "It streamlines data processing by providing reusable scripts and workflows, saving time on repetitive tasks and historical tracking. This efficiency is particularly valuable for research, analysis, and decision-making.\n",
    "\n",
    "It allows users to create, save, and share workflows, promoting experiment reproducibility and collaborative work. Multiple users can access and contribute to projects, making it an ideal tool for research teams, organizations, and communities tackling a variety of data processing challenges.\n",
    "\n",
    "Furthermore, it includes built-in version control features, enabling users to track workflow changes and access previous versions, ensuring proper management and documentation of project evolution."
   ]
  },
  {
   "cell_type": "markdown",
   "id": "32dd1910-d507-42cd-81af-794be9d8a1ad",
   "metadata": {},
   "source": [
    "## Does Geoweaver work?\n",
    "\n",
    "Yup. We have successfully used it in several AI projects and it saves tons of hours of our team, and keep us up to date with everyone else's progress. \n",
    "\n",
    "Some example projects: https://geobrain.csiss.gmu.edu/cmaq_site/"
   ]
  },
  {
   "cell_type": "markdown",
   "id": "dec394a2-7a73-4118-ae68-8af55c475e77",
   "metadata": {},
   "source": [
    "## How much efforts will it take to use Geoweaver?\n",
    "\n",
    "Very minimum. It does need some change of mindset to try to use it alone instead of going out of the track to do many trivial things in unmonitored places by Geoweaver. Geoweaver need people to get used to its design logic before picking up speed and productivity. But we expect the learning curve should be very easy to get passed by many people. "
   ]
  },
  {
   "cell_type": "markdown",
   "id": "cc0e6433-1aa8-467b-aead-8fd72cb3f683",
   "metadata": {
    "tags": []
   },
   "source": [
    "## Install Geoweaver"
   ]
  },
  {
   "cell_type": "code",
   "execution_count": 2,
   "id": "4f16a02f-bc1e-494d-834c-e706d87875bf",
   "metadata": {
    "tags": []
   },
   "outputs": [
    {
     "name": "stdout",
     "output_type": "stream",
     "text": [
      "Requirement already satisfied: pygeoweaver in /Users/joe/Documents/GitHub/pygeoweaver (0.7.5)\n",
      "Requirement already satisfied: setuptools>=61.0 in /Users/l21-n02609-comm/opt/anaconda3/lib/python3.9/site-packages (from pygeoweaver) (68.0.0)\n",
      "Requirement already satisfied: requests==2.28.2 in /Users/l21-n02609-comm/opt/anaconda3/lib/python3.9/site-packages (from pygeoweaver) (2.28.2)\n",
      "Requirement already satisfied: pydantic==1.10.9 in /Users/l21-n02609-comm/opt/anaconda3/lib/python3.9/site-packages (from pygeoweaver) (1.10.9)\n",
      "Requirement already satisfied: ipython==8.14.0 in /Users/l21-n02609-comm/opt/anaconda3/lib/python3.9/site-packages (from pygeoweaver) (8.14.0)\n",
      "Requirement already satisfied: pandas==2.0.2 in /Users/l21-n02609-comm/opt/anaconda3/lib/python3.9/site-packages (from pygeoweaver) (2.0.2)\n",
      "Requirement already satisfied: prompt-toolkit!=3.0.37,<3.1.0,>=3.0.30 in /Users/l21-n02609-comm/opt/anaconda3/lib/python3.9/site-packages (from ipython==8.14.0->pygeoweaver) (3.0.38)\n",
      "Requirement already satisfied: appnope in /Users/l21-n02609-comm/opt/anaconda3/lib/python3.9/site-packages (from ipython==8.14.0->pygeoweaver) (0.1.3)\n",
      "Requirement already satisfied: jedi>=0.16 in /Users/l21-n02609-comm/opt/anaconda3/lib/python3.9/site-packages (from ipython==8.14.0->pygeoweaver) (0.18.2)\n",
      "Requirement already satisfied: pickleshare in /Users/l21-n02609-comm/opt/anaconda3/lib/python3.9/site-packages (from ipython==8.14.0->pygeoweaver) (0.7.5)\n",
      "Requirement already satisfied: decorator in /Users/l21-n02609-comm/opt/anaconda3/lib/python3.9/site-packages (from ipython==8.14.0->pygeoweaver) (5.1.1)\n",
      "Requirement already satisfied: pexpect>4.3 in /Users/l21-n02609-comm/opt/anaconda3/lib/python3.9/site-packages (from ipython==8.14.0->pygeoweaver) (4.8.0)\n",
      "Requirement already satisfied: matplotlib-inline in /Users/l21-n02609-comm/opt/anaconda3/lib/python3.9/site-packages (from ipython==8.14.0->pygeoweaver) (0.1.6)\n",
      "Requirement already satisfied: pygments>=2.4.0 in /Users/l21-n02609-comm/opt/anaconda3/lib/python3.9/site-packages (from ipython==8.14.0->pygeoweaver) (2.15.1)\n",
      "Requirement already satisfied: typing-extensions in /Users/l21-n02609-comm/opt/anaconda3/lib/python3.9/site-packages (from ipython==8.14.0->pygeoweaver) (4.6.3)\n",
      "Requirement already satisfied: traitlets>=5 in /Users/l21-n02609-comm/opt/anaconda3/lib/python3.9/site-packages (from ipython==8.14.0->pygeoweaver) (5.9.0)\n",
      "Requirement already satisfied: backcall in /Users/l21-n02609-comm/opt/anaconda3/lib/python3.9/site-packages (from ipython==8.14.0->pygeoweaver) (0.2.0)\n",
      "Requirement already satisfied: stack-data in /Users/l21-n02609-comm/opt/anaconda3/lib/python3.9/site-packages (from ipython==8.14.0->pygeoweaver) (0.6.2)\n",
      "Requirement already satisfied: numpy>=1.20.3 in /Users/l21-n02609-comm/opt/anaconda3/lib/python3.9/site-packages (from pandas==2.0.2->pygeoweaver) (1.25.1)\n",
      "Requirement already satisfied: pytz>=2020.1 in /Users/l21-n02609-comm/opt/anaconda3/lib/python3.9/site-packages (from pandas==2.0.2->pygeoweaver) (2023.3)\n",
      "Requirement already satisfied: python-dateutil>=2.8.2 in /Users/l21-n02609-comm/opt/anaconda3/lib/python3.9/site-packages (from pandas==2.0.2->pygeoweaver) (2.8.2)\n",
      "Requirement already satisfied: tzdata>=2022.1 in /Users/l21-n02609-comm/opt/anaconda3/lib/python3.9/site-packages (from pandas==2.0.2->pygeoweaver) (2023.3)\n",
      "Requirement already satisfied: charset-normalizer<4,>=2 in /Users/l21-n02609-comm/opt/anaconda3/lib/python3.9/site-packages (from requests==2.28.2->pygeoweaver) (3.1.0)\n",
      "Requirement already satisfied: urllib3<1.27,>=1.21.1 in /Users/l21-n02609-comm/opt/anaconda3/lib/python3.9/site-packages (from requests==2.28.2->pygeoweaver) (1.26.16)\n",
      "Requirement already satisfied: certifi>=2017.4.17 in /Users/l21-n02609-comm/opt/anaconda3/lib/python3.9/site-packages (from requests==2.28.2->pygeoweaver) (2023.5.7)\n",
      "Requirement already satisfied: idna<4,>=2.5 in /Users/l21-n02609-comm/opt/anaconda3/lib/python3.9/site-packages (from requests==2.28.2->pygeoweaver) (3.4)\n",
      "Requirement already satisfied: parso<0.9.0,>=0.8.0 in /Users/l21-n02609-comm/opt/anaconda3/lib/python3.9/site-packages (from jedi>=0.16->ipython==8.14.0->pygeoweaver) (0.8.3)\n",
      "Requirement already satisfied: ptyprocess>=0.5 in /Users/l21-n02609-comm/opt/anaconda3/lib/python3.9/site-packages (from pexpect>4.3->ipython==8.14.0->pygeoweaver) (0.7.0)\n",
      "Requirement already satisfied: wcwidth in /Users/l21-n02609-comm/opt/anaconda3/lib/python3.9/site-packages (from prompt-toolkit!=3.0.37,<3.1.0,>=3.0.30->ipython==8.14.0->pygeoweaver) (0.2.6)\n",
      "Requirement already satisfied: six>=1.5 in /Users/l21-n02609-comm/opt/anaconda3/lib/python3.9/site-packages (from python-dateutil>=2.8.2->pandas==2.0.2->pygeoweaver) (1.16.0)\n",
      "Requirement already satisfied: pure-eval in /Users/l21-n02609-comm/opt/anaconda3/lib/python3.9/site-packages (from stack-data->ipython==8.14.0->pygeoweaver) (0.2.2)\n",
      "Requirement already satisfied: executing>=1.2.0 in /Users/l21-n02609-comm/opt/anaconda3/lib/python3.9/site-packages (from stack-data->ipython==8.14.0->pygeoweaver) (1.2.0)\n",
      "Requirement already satisfied: asttokens>=2.1.0 in /Users/l21-n02609-comm/opt/anaconda3/lib/python3.9/site-packages (from stack-data->ipython==8.14.0->pygeoweaver) (2.2.1)\n"
     ]
    }
   ],
   "source": [
    "!pip install pygeoweaver"
   ]
  },
  {
   "cell_type": "code",
   "execution_count": 8,
   "id": "a0421ac9-ba97-44f9-9ff9-5ee670fe05f8",
   "metadata": {
    "tags": []
   },
   "outputs": [
    {
     "name": "stdout",
     "output_type": "stream",
     "text": [
      "Downloading latest version of Geoweaver...\n",
      "Geoweaver.jar is downloaded\n",
      "Stop running Geoweaver if any..\n",
      "Check Java..\n",
      "Start Geoweaver..\n",
      "INFO\t2023-10-20 02:42:22,884\t0\tcom.gw.GeoweaverApplication\t[main]\tStarting GeoweaverApplication v1.1.1 using Java 17.0.5 on jS-M1.local with PID 29311 (/Users/joe/geoweaver.jar started by joe in /Users/joe/Documents/GitHub/pygeoweaver/pygeoweaver)\n",
      "DEBUG\t2023-10-20 02:42:22,885\t1\tcom.gw.GeoweaverApplication\t[main]\tRunning with Spring Boot v2.4.1, Spring v5.3.27\n",
      "INFO\t2023-10-20 02:42:22,886\t2\tcom.gw.GeoweaverApplication\t[main]\tNo active profile set, falling back to default profiles: default\n",
      "DEBUG\t2023-10-20 02:42:25,358\t2474\tcom.gw.workers.WorkerManager\t[main]\tThe worknumber setting: 5\n",
      "DEBUG\t2023-10-20 02:42:25,358\t2474\tcom.gw.workers.WorkerManager\t[main]\tworker manager created a worker \n",
      "DEBUG\t2023-10-20 02:42:25,359\t2475\tcom.gw.workers.WorkerManager\t[main]\tworker manager created a worker \n",
      "DEBUG\t2023-10-20 02:42:25,359\t2475\tcom.gw.workers.WorkerManager\t[main]\tworker manager created a worker \n",
      "DEBUG\t2023-10-20 02:42:25,359\t2475\tcom.gw.workers.WorkerManager\t[main]\tworker manager created a worker \n",
      "DEBUG\t2023-10-20 02:42:25,359\t2475\tcom.gw.workers.WorkerManager\t[main]\tworker manager created a worker \n",
      "DEBUG\t2023-10-20 02:42:25,663\t2779\tcom.gw.web.GoogleEarthController\t[main]\tA new Google Earth restTemplate is created\n",
      "DEBUG\t2023-10-20 02:42:25,669\t2785\tcom.gw.web.JupyterController\t[main]\tA new restTemplate is created\n",
      "DEBUG\t2023-10-20 02:42:25,895\t3011\tcom.gw.server.JupyterRedirectServlet\t[main]\tInitializing Jupyter Websocket Session...\n",
      "DEBUG\t2023-10-20 02:42:25,896\t3012\tcom.gw.server.JupyterHubRedirectServlet\t[main]\tInitializing JupyterHub Websocket Session...\n",
      "DEBUG\t2023-10-20 02:42:25,896\t3012\tcom.gw.server.JupyterLabRedirectServlet\t[main]\tInitializing Jupyter Lab Websocket Session...\n",
      "INFO\t2023-10-20 02:42:25,928\t3044\tcom.gw.ssh.SecurityConfiguration$$EnhancerBySpringCGLIB$$961f9bd\t[main]\tregistering SSH authentication provider\n",
      "INFO\t2023-10-20 02:42:26,550\t3666\tcom.gw.GeoweaverApplication\t[main]\tStarted GeoweaverApplication in 8.959 seconds (JVM running for 9.282)\n",
      "DEBUG\t2023-10-20 02:42:26,608\t3724\tcom.gw.commands.TopEntryCommand\t[main]\tshould print out all supported commands\n",
      "INFO\t2023-10-20 02:42:26,630\t3746\tcom.gw.GeoweaverApplication\t[main]\tPublic user exists.\n",
      "DEBUG\t2023-10-20 02:42:26,630\t3746\tcom.gw.GeoweaverApplication\t[main]\ttest what is going on\n",
      "DEBUG\t2023-10-20 02:42:26,630\t3746\tcom.gw.tools.UserTool\t[main]\tBelong the no-owner resources to public user..\n",
      "INFO\t2023-10-20 02:42:26,750\t3866\tcom.gw.GeoweaverApplication\t[main]\tLocalhost exists.\n",
      "INFO\t2023-10-20 02:42:26,750\t3866\tcom.gw.utils.BaseTool\t[main]\tget existing workspace dir: ~/gw-workspace\n",
      "INFO\t2023-10-20 02:42:26,750\t3866\tcom.gw.utils.BaseTool\t[main]\tnew workspace dir: ~/gw-workspace\n",
      "GeoWeaver is started and ready for use..\n",
      "URL: http://localhost:8070/Geoweaver\n",
      "Success: Geoweaver is up\n"
     ]
    }
   ],
   "source": [
    "import pygeoweaver\n",
    "# use pygeoweaver.start() if below command doesn't work\n",
    "pygeoweaver.start(force=True)"
   ]
  },
  {
   "cell_type": "markdown",
   "id": "21b1809d-6eb3-4c92-9258-260081b29d8f",
   "metadata": {},
   "source": [
    "# Open Geoweaver\n",
    "\n",
    "The URL of Geoweaver is `http://localhost:8070/Geoweaver`. Copy and paste it in any web browser.\n",
    "\n",
    "(the URL is localhost and might not work if you are running it in remote servers). \n",
    "\n",
    "![Geoweaver UI](../img/Geoweaver_ui.png)"
   ]
  },
  {
   "cell_type": "code",
   "execution_count": 9,
   "id": "d1afcc2f-c8eb-411a-b815-404e52be7a4a",
   "metadata": {
    "tags": []
   },
   "outputs": [
    {
     "name": "stdout",
     "output_type": "stream",
     "text": [
      "Stop running Geoweaver if any..\n",
      "Stopped.\n"
     ]
    }
   ],
   "source": [
    "pygeoweaver.stop()"
   ]
  }
 ],
 "metadata": {
  "kernelspec": {
   "display_name": "Python 3 (ipykernel)",
   "language": "python",
   "name": "python3"
  },
  "language_info": {
   "codemirror_mode": {
    "name": "ipython",
    "version": 3
   },
   "file_extension": ".py",
   "mimetype": "text/x-python",
   "name": "python",
   "nbconvert_exporter": "python",
   "pygments_lexer": "ipython3",
   "version": "3.9.7"
  }
 },
 "nbformat": 4,
 "nbformat_minor": 5
}
