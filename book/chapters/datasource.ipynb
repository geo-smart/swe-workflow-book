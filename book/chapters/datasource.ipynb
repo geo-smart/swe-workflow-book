{
 "cells": [
  {
   "cell_type": "markdown",
   "source": [
    "# Data Source\n",
    "\n",
    "Detailed exploration of data sources: Gridmet, AMSR, MODIS, Snotel\n",
    "Importance and characteristics of each data source\n"
   ],
   "metadata": {
    "collapsed": false
   },
   "id": "a19b1c84c1e62af1"
  },
  {
   "cell_type": "code",
   "outputs": [],
   "source": [],
   "metadata": {
    "collapsed": false
   },
   "id": "90623fdb37e99f29"
  }
 ],
 "metadata": {
  "kernelspec": {
   "display_name": "Python 3",
   "language": "python",
   "name": "python3"
  },
  "language_info": {
   "codemirror_mode": {
    "name": "ipython",
    "version": 2
   },
   "file_extension": ".py",
   "mimetype": "text/x-python",
   "name": "python",
   "nbconvert_exporter": "python",
   "pygments_lexer": "ipython3",
   "version": "3.11.7"
  }
 },
 "nbformat": 4,
 "nbformat_minor": 5
}
