{
 "cells": [
  {
   "cell_type": "markdown",
   "source": [
    "# Cumulative Time Series Analysis \n",
    "\n",
    "Importance of time series analysis in SWE data\n",
    "Methods and models for time series analysis\n"
   ],
   "metadata": {
    "collapsed": false
   },
   "id": "2d4dd90337994e43"
  }
 ],
 "metadata": {
  "kernelspec": {
   "display_name": "Python 3",
   "language": "python",
   "name": "python3"
  },
  "language_info": {
   "codemirror_mode": {
    "name": "ipython",
    "version": 2
   },
   "file_extension": ".py",
   "mimetype": "text/x-python",
   "name": "python",
   "nbconvert_exporter": "python",
   "pygments_lexer": "ipython2",
   "version": "2.7.6"
  }
 },
 "nbformat": 4,
 "nbformat_minor": 5
}
