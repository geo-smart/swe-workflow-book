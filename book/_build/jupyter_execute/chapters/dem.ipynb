{
 "cells": [
  {
   "cell_type": "markdown",
   "id": "29dcdd816afc6ba4",
   "metadata": {
    "collapsed": false
   },
   "source": [
    "# Digital Elevation Model"
   ]
  },
  {
   "cell_type": "code",
   "id": "dea64adfe80ac63f",
   "metadata": {
    "collapsed": false
   },
   "outputs": [],
   "source": []
  }
 ],
 "metadata": {
  "kernelspec": {
   "display_name": "Python 3",
   "language": "python",
   "name": "python3"
  },
  "language_info": {
   "codemirror_mode": {
    "name": "ipython",
    "version": 2
   },
   "file_extension": ".py",
   "mimetype": "text/x-python",
   "name": "python",
   "nbconvert_exporter": "python",
   "pygments_lexer": "ipython2",
   "version": "2.7.6"
  }
 },
 "nbformat": 4,
 "nbformat_minor": 5
}